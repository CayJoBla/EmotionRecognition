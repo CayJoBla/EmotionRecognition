{
  "nbformat": 4,
  "nbformat_minor": 0,
  "metadata": {
    "colab": {
      "provenance": [],
      "collapsed_sections": []
    },
    "kernelspec": {
      "name": "python3",
      "display_name": "Python 3"
    },
    "language_info": {
      "name": "python"
    }
  },
  "cells": [
    {
      "cell_type": "code",
      "execution_count": 22,
      "metadata": {
        "id": "Kd45Mm9eVHg7"
      },
      "outputs": [],
      "source": [
        "import numpy as np\n",
        "import pandas as pd\n",
        "from matplotlib import pyplot as plt\n",
        "import os\n",
        "import io\n",
        "import regex\n",
        "from sklearn.feature_extraction.text import CountVectorizer\n",
        "from matplotlib import pyplot as plt\n",
        "from scipy import sparse"
      ]
    },
    {
      "cell_type": "markdown",
      "source": [
        "# Upload Data"
      ],
      "metadata": {
        "id": "D5wUa5aNyXkK"
      }
    },
    {
      "cell_type": "code",
      "source": [
        "df = pd.read_csv('https://raw.githubusercontent.com/CayJoBla/EmotionRecognition/master/data/original_data.csv', index_col=0)"
      ],
      "metadata": {
        "id": "Zt9iI6wXzhHQ"
      },
      "execution_count": 2,
      "outputs": []
    },
    {
      "cell_type": "code",
      "source": [
        "tweet_data = df.copy()\n",
        "tweet_data.info()"
      ],
      "metadata": {
        "colab": {
          "base_uri": "https://localhost:8080/"
        },
        "id": "RUhrZD2Wmsic",
        "outputId": "f06f21fc-dfd0-47c1-fcab-351b5ca33364"
      },
      "execution_count": 54,
      "outputs": [
        {
          "output_type": "stream",
          "name": "stdout",
          "text": [
            "<class 'pandas.core.frame.DataFrame'>\n",
            "Int64Index: 40000 entries, 1956967341 to 1753919049\n",
            "Data columns (total 2 columns):\n",
            " #   Column     Non-Null Count  Dtype \n",
            "---  ------     --------------  ----- \n",
            " 0   sentiment  40000 non-null  object\n",
            " 1   content    40000 non-null  object\n",
            "dtypes: object(2)\n",
            "memory usage: 937.5+ KB\n"
          ]
        }
      ]
    },
    {
      "cell_type": "code",
      "source": [
        "pd.unique(tweet_data['sentiment'])"
      ],
      "metadata": {
        "colab": {
          "base_uri": "https://localhost:8080/"
        },
        "id": "umwpjYyDoMzE",
        "outputId": "09835fd5-57d3-4d00-aa12-07c8b7f562fc"
      },
      "execution_count": 55,
      "outputs": [
        {
          "output_type": "execute_result",
          "data": {
            "text/plain": [
              "array(['empty', 'sadness', 'enthusiasm', 'neutral', 'worry', 'surprise',\n",
              "       'love', 'fun', 'hate', 'happiness', 'boredom', 'relief', 'anger'],\n",
              "      dtype=object)"
            ]
          },
          "metadata": {},
          "execution_count": 55
        }
      ]
    },
    {
      "cell_type": "code",
      "source": [
        "tweet_data.loc[tweet_data[\"sentiment\"]==\"empty\", \"sentiment\"] = \"sadness\"\n",
        "tweet_data.loc[tweet_data[\"sentiment\"]==\"boredom\", \"sentiment\"] = \"neutral\"\n",
        "tweet_data.loc[tweet_data[\"sentiment\"]==\"hate\", \"sentiment\"] = \"anger\"\n",
        "tweet_data.loc[tweet_data[\"sentiment\"]==\"fun\", \"sentiment\"] = \"enthusiasm\"\n",
        "pd.unique(tweet_data['sentiment'])"
      ],
      "metadata": {
        "colab": {
          "base_uri": "https://localhost:8080/"
        },
        "id": "lFRL_CcWY9jb",
        "outputId": "898e8026-07d9-42ef-bd80-85b79026fc63"
      },
      "execution_count": 56,
      "outputs": [
        {
          "output_type": "execute_result",
          "data": {
            "text/plain": [
              "array(['sadness', 'enthusiasm', 'neutral', 'worry', 'surprise', 'love',\n",
              "       'anger', 'happiness', 'relief'], dtype=object)"
            ]
          },
          "metadata": {},
          "execution_count": 56
        }
      ]
    },
    {
      "cell_type": "code",
      "source": [
        "# Define identifiers\n",
        "urls = r\"http:[^\\s]+|w{3}\\.[^\\s]+|[\\w]+\\.[\\w]{3}[/\\w]*\"\n",
        "users = r\"@(\\w){1,}\"\n",
        "tags = r\"#(\\w){1,}\"\n",
        "symbols = r\"[&[\\w]+;|~$/%/^/&/*-/+/=/\\/|///?:;\\\"<>,]|[.]+\"\n",
        "\n",
        "# Parse unique identifiers\n",
        "tweet_data['num_urls'] = tweet_data['content'].apply(lambda text: len(regex.findall(urls, text.lower()))).values\n",
        "tweet_data['content_parsed'] = tweet_data['content'].apply(lambda text: regex.sub(urls, \"\", text)).values\n",
        "tweet_data['num_pings'] = tweet_data['content_parsed'].apply(lambda text: len(regex.findall(users, text.lower()))).values\n",
        "tweet_data['content_parsed'] = tweet_data['content_parsed'].apply(lambda text: regex.sub(users, \"\", text)).values\n",
        "tweet_data['num_tags'] = tweet_data['content_parsed'].apply(lambda text: len(regex.findall(tags, text.lower()))).values\n",
        "tweet_data['content_parsed'] = tweet_data['content_parsed'].apply(lambda text: regex.sub(tags, \"\", text)).values\n",
        "tweet_data['#!'] = tweet_data['content_parsed'].str.count('!')\n",
        "tweet_data['#?'] = tweet_data['content_parsed'].str.count('\\\\?')\n",
        "tweet_data['#...'] = tweet_data['content_parsed'].str.count('\\\\.{2,}')\n",
        "tweet_data['Upper/Lower ratio'] = (tweet_data['content_parsed'].str.findall(r'[A-Z]').str.len()+1) / (tweet_data['content_parsed'].str.findall(r'[a-z]').str.len()+1)\n",
        "tweet_data['Number of Words'] = tweet_data['content_parsed'].apply(lambda n: len(n.split()))\n",
        "tweet_data['content_parsed'] = tweet_data['content_parsed'].apply(lambda text: text.replace(';', '; '))\n",
        "tweet_data['content_parsed'] = tweet_data['content_parsed'].apply(lambda text: text.replace('&', ' &'))\n",
        "tweet_data['content_parsed'] = tweet_data['content_parsed'].apply(lambda text: text.replace('_', ' '))\n",
        "tweet_data['content_parsed'] = tweet_data['content_parsed'].apply(lambda text: text.replace('ï', ''))\n",
        "tweet_data['content_parsed'] = tweet_data['content_parsed'].apply(lambda text: text.replace('½', ''))\n",
        "tweet_data['content_parsed'] = tweet_data['content_parsed'].apply(lambda text: regex.sub(symbols, \" \", text)).values\n",
        "tweet_data['content_parsed'] = tweet_data['content_parsed'].apply(lambda text: regex.sub(r\"'\", \"\", text)).values\n",
        "\n",
        "words = r\"[\\w]+\"\n",
        "tweet_data['words'] = tweet_data['content_parsed'].apply(lambda text: regex.findall(words, text.lower())).values\n",
        "tweet_data[\"avg word length\"] = tweet_data['words'].apply(lambda word_array: np.mean([len(word) for word in word_array]))"
      ],
      "metadata": {
        "id": "Q_R9JQjrvsDQ",
        "colab": {
          "base_uri": "https://localhost:8080/"
        },
        "outputId": "4f316088-3afc-41f0-a706-63aeb81d75a1"
      },
      "execution_count": 57,
      "outputs": [
        {
          "output_type": "stream",
          "name": "stderr",
          "text": [
            "/usr/local/lib/python3.7/dist-packages/numpy/core/fromnumeric.py:3441: RuntimeWarning: Mean of empty slice.\n",
            "  out=out, **kwargs)\n"
          ]
        }
      ]
    },
    {
      "cell_type": "code",
      "source": [
        "#tweet_data = tweet_data.drop(columns=['content_parsed'])\n",
        "vectorizer = CountVectorizer()\n",
        "X = vectorizer.fit_transform(tweet_data[\"content_parsed\"].values)\n",
        "\n",
        "total_counts = np.sum(X, axis=0)\n",
        "print(np.min(total_counts), np.max(total_counts), np.mean(total_counts))\n",
        "print(np.array(total_counts)[0])\n",
        "counts = np.array(total_counts)[0]\n",
        "plt.hist(counts, bins=20)\n",
        "plt.show()"
      ],
      "metadata": {
        "id": "HComd5H1iEY6",
        "colab": {
          "base_uri": "https://localhost:8080/",
          "height": 300
        },
        "outputId": "40826ca3-d812-4344-9143-fce1e9641ae5"
      },
      "execution_count": 58,
      "outputs": [
        {
          "output_type": "stream",
          "name": "stdout",
          "text": [
            "1 14374 15.661168361884368\n",
            "[31 26  1 ...  1  1  1]\n"
          ]
        },
        {
          "output_type": "display_data",
          "data": {
            "text/plain": [
              "<Figure size 432x288 with 1 Axes>"
            ],
            "image/png": "[encoded data removed]"
          },
          "metadata": {
            "needs_background": "light"
          }
        }
      ]
    },
    {
      "cell_type": "code",
      "source": [
        "plt.hist(counts[counts >= 5], bins=20)"
      ],
      "metadata": {
        "colab": {
          "base_uri": "https://localhost:8080/",
          "height": 456
        },
        "id": "3ImfyO3Mp0Lm",
        "outputId": "11e72984-df49-4123-f07c-70132e42b612"
      },
      "execution_count": 59,
      "outputs": [
        {
          "output_type": "execute_result",
          "data": {
            "text/plain": [
              "(array([5.661e+03, 5.800e+01, 1.600e+01, 9.000e+00, 6.000e+00, 5.000e+00,\n",
              "        2.000e+00, 3.000e+00, 1.000e+00, 1.000e+00, 1.000e+00, 1.000e+00,\n",
              "        0.000e+00, 0.000e+00, 0.000e+00, 0.000e+00, 0.000e+00, 0.000e+00,\n",
              "        1.000e+00, 1.000e+00]),\n",
              " array([5.000000e+00, 7.234500e+02, 1.441900e+03, 2.160350e+03,\n",
              "        2.878800e+03, 3.597250e+03, 4.315700e+03, 5.034150e+03,\n",
              "        5.752600e+03, 6.471050e+03, 7.189500e+03, 7.907950e+03,\n",
              "        8.626400e+03, 9.344850e+03, 1.006330e+04, 1.078175e+04,\n",
              "        1.150020e+04, 1.221865e+04, 1.293710e+04, 1.365555e+04,\n",
              "        1.437400e+04]),\n",
              " <a list of 20 Patch objects>)"
            ]
          },
          "metadata": {},
          "execution_count": 59
        },
        {
          "output_type": "display_data",
          "data": {
            "text/plain": [
              "<Figure size 432x288 with 1 Axes>"
            ],
            "image/png": "[encoded data removed]"
          },
          "metadata": {
            "needs_background": "light"
          }
        }
      ]
    },
    {
      "cell_type": "code",
      "source": [
        "temp = np.array(total_counts)[0]\n",
        "names = vectorizer.get_feature_names_out()\n",
        "print(temp)\n",
        "print(names[-20:])\n",
        "print(names[temp >= 5])\n",
        "for i in range(20):\n",
        "    ind = np.argmin(temp)\n",
        "    print(names[ind], temp[ind])\n",
        "    mask = temp != temp[ind]\n",
        "    temp = temp[mask]\n",
        "    names = names[mask]\n",
        "plt.hist(temp[temp >= 5], bins=20)"
      ],
      "metadata": {
        "colab": {
          "base_uri": "https://localhost:8080/",
          "height": 855
        },
        "id": "sKqn6QUAqhI_",
        "outputId": "3ba07965-00a6-4f80-ff7e-75ac8345835e"
      },
      "execution_count": 60,
      "outputs": [
        {
          "output_type": "stream",
          "name": "stdout",
          "text": [
            "[31 26  1 ...  1  1  1]\n",
            "['zq' 'zs' 'zsg' 'zu' 'zuccini' 'zuljin' 'zulu' 'zum' 'zumba' 'zune' 'zur'\n",
            " 'zwarte' 'zydrate' 'zyrtec' 'zzz' 'zzzz' 'zzzzy' 'zzzzz' 'zzzzzzz'\n",
            " 'zzzzzzzzzzzzzzz']\n",
            "['00' '000' '04' ... 'zone' 'zoo' 'zune']\n",
            "000th 1\n",
            "100000000000000000000000000000000000 2\n",
            "01 3\n",
            "03 4\n",
            "12am 5\n",
            "04 6\n",
            "100th 7\n",
            "06 8\n",
            "05 9\n",
            "1000 10\n",
            "08 11\n",
            "3am 12\n",
            "27 13\n",
            "2morrow 14\n",
            "4am 15\n",
            "26 16\n",
            "140 17\n",
            "2moro 18\n",
            "amazon 19\n",
            "19 20\n"
          ]
        },
        {
          "output_type": "execute_result",
          "data": {
            "text/plain": [
              "(array([1.794e+03, 5.500e+01, 1.700e+01, 8.000e+00, 6.000e+00, 5.000e+00,\n",
              "        2.000e+00, 3.000e+00, 1.000e+00, 1.000e+00, 1.000e+00, 1.000e+00,\n",
              "        0.000e+00, 0.000e+00, 0.000e+00, 0.000e+00, 0.000e+00, 0.000e+00,\n",
              "        1.000e+00, 1.000e+00]),\n",
              " array([   21.  ,   738.65,  1456.3 ,  2173.95,  2891.6 ,  3609.25,\n",
              "         4326.9 ,  5044.55,  5762.2 ,  6479.85,  7197.5 ,  7915.15,\n",
              "         8632.8 ,  9350.45, 10068.1 , 10785.75, 11503.4 , 12221.05,\n",
              "        12938.7 , 13656.35, 14374.  ]),\n",
              " <a list of 20 Patch objects>)"
            ]
          },
          "metadata": {},
          "execution_count": 60
        },
        {
          "output_type": "display_data",
          "data": {
            "text/plain": [
              "<Figure size 432x288 with 1 Axes>"
            ],
            "image/png": "[encoded data removed]"
          },
          "metadata": {
            "needs_background": "light"
          }
        }
      ]
    },
    {
      "cell_type": "code",
      "source": [
        "X = vectorizer.fit_transform(tweet_data[\"content_parsed\"].values)\n",
        "X = csc_matrix(X)\n",
        "print(X.shape)\n",
        "\n",
        "counts = np.array(total_counts)[0]\n",
        "names = vectorizer.get_feature_names_out()\n",
        "for i in range(5):\n",
        "    ind = np.argmax(counts)\n",
        "    print(names[ind], counts[ind])\n",
        "    mask = np.ones_like(counts, dtype=bool)\n",
        "    mask[ind] = False\n",
        "    counts = counts[mask]\n",
        "    names = names[mask]\n",
        "    keep_ind = np.delete(np.arange(len(counts)), ind)\n",
        "    X = X[:,keep_ind]\n",
        "\n",
        "X = X[:,counts >= 5]\n",
        "print(X.shape)\n",
        "names = names[counts >= 5]\n",
        "#X = X.toarray()"
      ],
      "metadata": {
        "colab": {
          "base_uri": "https://localhost:8080/"
        },
        "id": "SZHywDhpq7d9",
        "outputId": "68653c7f-46eb-4fd6-deeb-cd93318ecaea"
      },
      "execution_count": 63,
      "outputs": [
        {
          "output_type": "stream",
          "name": "stdout",
          "text": [
            "(40000, 29888)\n",
            "to 14374\n",
            "the 12970\n",
            "my 8073\n",
            "and 7457\n",
            "you 7095\n",
            "(40000, 5761)\n"
          ]
        }
      ]
    },
    {
      "cell_type": "code",
      "source": [
        "tweet_data.info()"
      ],
      "metadata": {
        "colab": {
          "base_uri": "https://localhost:8080/"
        },
        "id": "cmkSZ_BB2uYF",
        "outputId": "11ef99ea-acad-4c2f-cfa7-befa6349c742"
      },
      "execution_count": 64,
      "outputs": [
        {
          "output_type": "stream",
          "name": "stdout",
          "text": [
            "<class 'pandas.core.frame.DataFrame'>\n",
            "Int64Index: 40000 entries, 1956967341 to 1753919049\n",
            "Data columns (total 13 columns):\n",
            " #   Column             Non-Null Count  Dtype  \n",
            "---  ------             --------------  -----  \n",
            " 0   sentiment          40000 non-null  object \n",
            " 1   content            40000 non-null  object \n",
            " 2   num_urls           40000 non-null  int64  \n",
            " 3   content_parsed     40000 non-null  object \n",
            " 4   num_pings          40000 non-null  int64  \n",
            " 5   num_tags           40000 non-null  int64  \n",
            " 6   #!                 40000 non-null  int64  \n",
            " 7   #?                 40000 non-null  int64  \n",
            " 8   #...               40000 non-null  int64  \n",
            " 9   Upper/Lower ratio  40000 non-null  float64\n",
            " 10  Number of Words    40000 non-null  int64  \n",
            " 11  words              40000 non-null  object \n",
            " 12  avg word length    39899 non-null  float64\n",
            "dtypes: float64(2), int64(7), object(4)\n",
            "memory usage: 4.3+ MB\n"
          ]
        }
      ]
    },
    {
      "cell_type": "code",
      "source": [
        "tweet_data = tweet_data.drop(columns=[\"words\",\"content_parsed\",\"content\"])\n",
        "data = sparse.hstack((tweet_data.values, X.astype(object)), dtype=np.object_)"
      ],
      "metadata": {
        "id": "PAeNhuzl3wF3"
      },
      "execution_count": 67,
      "outputs": []
    },
    {
      "cell_type": "code",
      "source": [
        "print(data.shape)\n",
        "sparse.save_npz(\"cleaned_data.npz\", data)"
      ],
      "metadata": {
        "colab": {
          "base_uri": "https://localhost:8080/"
        },
        "id": "ckQTLBX65bwx",
        "outputId": "05790a0f-8a4f-45b6-e151-35b4a8a09f9a"
      },
      "execution_count": 72,
      "outputs": [
        {
          "output_type": "stream",
          "name": "stdout",
          "text": [
            "(40000, 5771)\n"
          ]
        }
      ]
    },
    {
      "cell_type": "code",
      "source": [
        "tweet_data"
      ],
      "metadata": {
        "colab": {
          "base_uri": "https://localhost:8080/",
          "height": 455
        },
        "id": "tWgu493K5j07",
        "outputId": "4a9f9ee6-d535-4e7b-c92b-59fd9d51976a"
      },
      "execution_count": 69,
      "outputs": [
        {
          "output_type": "execute_result",
          "data": {
            "text/plain": [
              "             sentiment  num_urls  num_pings  num_tags  #!  #?  #...  \\\n",
              "tweet_id                                                              \n",
              "1956967341     sadness         0          1         0   0   0     0   \n",
              "1956967666     sadness         0          0         0   0   0     2   \n",
              "1956967696     sadness         0          0         0   0   0     2   \n",
              "1956967789  enthusiasm         0          0         0   1   0     0   \n",
              "1956968416     neutral         0          1         0   0   0     0   \n",
              "...                ...       ...        ...       ...  ..  ..   ...   \n",
              "1753918954     neutral         0          1         0   0   0     0   \n",
              "1753919001        love         0          0         0   0   0     0   \n",
              "1753919005        love         0          0         0   1   0     0   \n",
              "1753919043   happiness         1          1         0   7   0     0   \n",
              "1753919049        love         0          1         0   0   0     0   \n",
              "\n",
              "            Upper/Lower ratio  Number of Words  avg word length  \n",
              "tweet_id                                                         \n",
              "1956967341           0.016129               17         3.812500  \n",
              "1956967666           0.045455               10         4.000000  \n",
              "1956967696           0.074074                3         6.750000  \n",
              "1956967789           0.192308                7         4.142857  \n",
              "1956968416           0.054545               14         4.000000  \n",
              "...                       ...              ...              ...  \n",
              "1753918954           1.000000                0              NaN  \n",
              "1753919001           0.238095                6         4.000000  \n",
              "1753919005           0.043956               25         3.720000  \n",
              "1753919043          74.000000               18         3.842105  \n",
              "1753919049           0.010309               17         5.333333  \n",
              "\n",
              "[40000 rows x 10 columns]"
            ],
            "text/html": [
              "\n",
              "  <div id=\"df-726a7eb8-289c-4cc4-aa17-13ea0f5a90fa\">\n",
              "    <div class=\"colab-df-container\">\n",
              "      <div>\n",
              "<style scoped>\n",
              "    .dataframe tbody tr th:only-of-type {\n",
              "        vertical-align: middle;\n",
              "    }\n",
              "\n",
              "    .dataframe tbody tr th {\n",
              "        vertical-align: top;\n",
              "    }\n",
              "\n",
              "    .dataframe thead th {\n",
              "        text-align: right;\n",
              "    }\n",
              "</style>\n",
              "<table border=\"1\" class=\"dataframe\">\n",
              "  <thead>\n",
              "    <tr style=\"text-align: right;\">\n",
              "      <th></th>\n",
              "      <th>sentiment</th>\n",
              "      <th>num_urls</th>\n",
              "      <th>num_pings</th>\n",
              "      <th>num_tags</th>\n",
              "      <th>#!</th>\n",
              "      <th>#?</th>\n",
              "      <th>#...</th>\n",
              "      <th>Upper/Lower ratio</th>\n",
              "      <th>Number of Words</th>\n",
              "      <th>avg word length</th>\n",
              "    </tr>\n",
              "    <tr>\n",
              "      <th>tweet_id</th>\n",
              "      <th></th>\n",
              "      <th></th>\n",
              "      <th></th>\n",
              "      <th></th>\n",
              "      <th></th>\n",
              "      <th></th>\n",
              "      <th></th>\n",
              "      <th></th>\n",
              "      <th></th>\n",
              "      <th></th>\n",
              "    </tr>\n",
              "  </thead>\n",
              "  <tbody>\n",
              "    <tr>\n",
              "      <th>1956967341</th>\n",
              "      <td>sadness</td>\n",
              "      <td>0</td>\n",
              "      <td>1</td>\n",
              "      <td>0</td>\n",
              "      <td>0</td>\n",
              "      <td>0</td>\n",
              "      <td>0</td>\n",
              "      <td>0.016129</td>\n",
              "      <td>17</td>\n",
              "      <td>3.812500</td>\n",
              "    </tr>\n",
              "    <tr>\n",
              "      <th>1956967666</th>\n",
              "      <td>sadness</td>\n",
              "      <td>0</td>\n",
              "      <td>0</td>\n",
              "      <td>0</td>\n",
              "      <td>0</td>\n",
              "      <td>0</td>\n",
              "      <td>2</td>\n",
              "      <td>0.045455</td>\n",
              "      <td>10</td>\n",
              "      <td>4.000000</td>\n",
              "    </tr>\n",
              "    <tr>\n",
              "      <th>1956967696</th>\n",
              "      <td>sadness</td>\n",
              "      <td>0</td>\n",
              "      <td>0</td>\n",
              "      <td>0</td>\n",
              "      <td>0</td>\n",
              "      <td>0</td>\n",
              "      <td>2</td>\n",
              "      <td>0.074074</td>\n",
              "      <td>3</td>\n",
              "      <td>6.750000</td>\n",
              "    </tr>\n",
              "    <tr>\n",
              "      <th>1956967789</th>\n",
              "      <td>enthusiasm</td>\n",
              "      <td>0</td>\n",
              "      <td>0</td>\n",
              "      <td>0</td>\n",
              "      <td>1</td>\n",
              "      <td>0</td>\n",
              "      <td>0</td>\n",
              "      <td>0.192308</td>\n",
              "      <td>7</td>\n",
              "      <td>4.142857</td>\n",
              "    </tr>\n",
              "    <tr>\n",
              "      <th>1956968416</th>\n",
              "      <td>neutral</td>\n",
              "      <td>0</td>\n",
              "      <td>1</td>\n",
              "      <td>0</td>\n",
              "      <td>0</td>\n",
              "      <td>0</td>\n",
              "      <td>0</td>\n",
              "      <td>0.054545</td>\n",
              "      <td>14</td>\n",
              "      <td>4.000000</td>\n",
              "    </tr>\n",
              "    <tr>\n",
              "      <th>...</th>\n",
              "      <td>...</td>\n",
              "      <td>...</td>\n",
              "      <td>...</td>\n",
              "      <td>...</td>\n",
              "      <td>...</td>\n",
              "      <td>...</td>\n",
              "      <td>...</td>\n",
              "      <td>...</td>\n",
              "      <td>...</td>\n",
              "      <td>...</td>\n",
              "    </tr>\n",
              "    <tr>\n",
              "      <th>1753918954</th>\n",
              "      <td>neutral</td>\n",
              "      <td>0</td>\n",
              "      <td>1</td>\n",
              "      <td>0</td>\n",
              "      <td>0</td>\n",
              "      <td>0</td>\n",
              "      <td>0</td>\n",
              "      <td>1.000000</td>\n",
              "      <td>0</td>\n",
              "      <td>NaN</td>\n",
              "    </tr>\n",
              "    <tr>\n",
              "      <th>1753919001</th>\n",
              "      <td>love</td>\n",
              "      <td>0</td>\n",
              "      <td>0</td>\n",
              "      <td>0</td>\n",
              "      <td>0</td>\n",
              "      <td>0</td>\n",
              "      <td>0</td>\n",
              "      <td>0.238095</td>\n",
              "      <td>6</td>\n",
              "      <td>4.000000</td>\n",
              "    </tr>\n",
              "    <tr>\n",
              "      <th>1753919005</th>\n",
              "      <td>love</td>\n",
              "      <td>0</td>\n",
              "      <td>0</td>\n",
              "      <td>0</td>\n",
              "      <td>1</td>\n",
              "      <td>0</td>\n",
              "      <td>0</td>\n",
              "      <td>0.043956</td>\n",
              "      <td>25</td>\n",
              "      <td>3.720000</td>\n",
              "    </tr>\n",
              "    <tr>\n",
              "      <th>1753919043</th>\n",
              "      <td>happiness</td>\n",
              "      <td>1</td>\n",
              "      <td>1</td>\n",
              "      <td>0</td>\n",
              "      <td>7</td>\n",
              "      <td>0</td>\n",
              "      <td>0</td>\n",
              "      <td>74.000000</td>\n",
              "      <td>18</td>\n",
              "      <td>3.842105</td>\n",
              "    </tr>\n",
              "    <tr>\n",
              "      <th>1753919049</th>\n",
              "      <td>love</td>\n",
              "      <td>0</td>\n",
              "      <td>1</td>\n",
              "      <td>0</td>\n",
              "      <td>0</td>\n",
              "      <td>0</td>\n",
              "      <td>0</td>\n",
              "      <td>0.010309</td>\n",
              "      <td>17</td>\n",
              "      <td>5.333333</td>\n",
              "    </tr>\n",
              "  </tbody>\n",
              "</table>\n",
              "<p>40000 rows × 10 columns</p>\n",
              "</div>\n",
              "      <button class=\"colab-df-convert\" onclick=\"convertToInteractive('df-726a7eb8-289c-4cc4-aa17-13ea0f5a90fa')\"\n",
              "              title=\"Convert this dataframe to an interactive table.\"\n",
              "              style=\"display:none;\">\n",
              "        \n",
              "  <svg xmlns=\"http://www.w3.org/2000/svg\" height=\"24px\"viewBox=\"0 0 24 24\"\n",
              "       width=\"24px\">\n",
              "    <path d=\"M0 0h24v24H0V0z\" fill=\"none\"/>\n",
              "    <path d=\"M18.56 5.44l.94 2.06.94-2.06 2.06-.94-2.06-.94-.94-2.06-.94 2.06-2.06.94zm-11 1L8.5 8.5l.94-2.06 2.06-.94-2.06-.94L8.5 2.5l-.94 2.06-2.06.94zm10 10l.94 2.06.94-2.06 2.06-.94-2.06-.94-.94-2.06-.94 2.06-2.06.94z\"/><path d=\"M17.41 7.96l-1.37-1.37c-.4-.4-.92-.59-1.43-.59-.52 0-1.04.2-1.43.59L10.3 9.45l-7.72 7.72c-.78.78-.78 2.05 0 2.83L4 21.41c.39.39.9.59 1.41.59.51 0 1.02-.2 1.41-.59l7.78-7.78 2.81-2.81c.8-.78.8-2.07 0-2.86zM5.41 20L4 18.59l7.72-7.72 1.47 1.35L5.41 20z\"/>\n",
              "  </svg>\n",
              "      </button>\n",
              "      \n",
              "  <style>\n",
              "    .colab-df-container {\n",
              "      display:flex;\n",
              "      flex-wrap:wrap;\n",
              "      gap: 12px;\n",
              "    }\n",
              "\n",
              "    .colab-df-convert {\n",
              "      background-color: #E8F0FE;\n",
              "      border: none;\n",
              "      border-radius: 50%;\n",
              "      cursor: pointer;\n",
              "      display: none;\n",
              "      fill: #1967D2;\n",
              "      height: 32px;\n",
              "      padding: 0 0 0 0;\n",
              "      width: 32px;\n",
              "    }\n",
              "\n",
              "    .colab-df-convert:hover {\n",
              "      background-color: #E2EBFA;\n",
              "      box-shadow: 0px 1px 2px rgba(60, 64, 67, 0.3), 0px 1px 3px 1px rgba(60, 64, 67, 0.15);\n",
              "      fill: #174EA6;\n",
              "    }\n",
              "\n",
              "    [theme=dark] .colab-df-convert {\n",
              "      background-color: #3B4455;\n",
              "      fill: #D2E3FC;\n",
              "    }\n",
              "\n",
              "    [theme=dark] .colab-df-convert:hover {\n",
              "      background-color: #434B5C;\n",
              "      box-shadow: 0px 1px 3px 1px rgba(0, 0, 0, 0.15);\n",
              "      filter: drop-shadow(0px 1px 2px rgba(0, 0, 0, 0.3));\n",
              "      fill: #FFFFFF;\n",
              "    }\n",
              "  </style>\n",
              "\n",
              "      <script>\n",
              "        const buttonEl =\n",
              "          document.querySelector('#df-726a7eb8-289c-4cc4-aa17-13ea0f5a90fa button.colab-df-convert');\n",
              "        buttonEl.style.display =\n",
              "          google.colab.kernel.accessAllowed ? 'block' : 'none';\n",
              "\n",
              "        async function convertToInteractive(key) {\n",
              "          const element = document.querySelector('#df-726a7eb8-289c-4cc4-aa17-13ea0f5a90fa');\n",
              "          const dataTable =\n",
              "            await google.colab.kernel.invokeFunction('convertToInteractive',\n",
              "                                                     [key], {});\n",
              "          if (!dataTable) return;\n",
              "\n",
              "          const docLinkHtml = 'Like what you see? Visit the ' +\n",
              "            '<a target=\"_blank\" href=https://colab.research.google.com/notebooks/data_table.ipynb>data table notebook</a>'\n",
              "            + ' to learn more about interactive tables.';\n",
              "          element.innerHTML = '';\n",
              "          dataTable['output_type'] = 'display_data';\n",
              "          await google.colab.output.renderOutput(dataTable, element);\n",
              "          const docLink = document.createElement('div');\n",
              "          docLink.innerHTML = docLinkHtml;\n",
              "          element.appendChild(docLink);\n",
              "        }\n",
              "      </script>\n",
              "    </div>\n",
              "  </div>\n",
              "  "
            ]
          },
          "metadata": {},
          "execution_count": 69
        }
      ]
    },
    {
      "cell_type": "code",
      "source": [
        "tweet_data.to_csv(\"cleaned_data.csv\")"
      ],
      "metadata": {
        "id": "RG6gN_MW0nTI"
      },
      "execution_count": null,
      "outputs": []
    },
    {
      "cell_type": "code",
      "source": [],
      "metadata": {
        "id": "OM09q_wPFkc2"
      },
      "execution_count": null,
      "outputs": []
    }
  ]
}