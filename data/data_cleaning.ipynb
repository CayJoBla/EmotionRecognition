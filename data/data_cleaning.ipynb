{
  "nbformat": 4,
  "nbformat_minor": 0,
  "metadata": {
    "colab": {
      "provenance": []
    },
    "kernelspec": {
      "name": "python3",
      "display_name": "Python 3"
    },
    "language_info": {
      "name": "python"
    }
  },
  "cells": [
    {
      "cell_type": "code",
      "execution_count": 1,
      "metadata": {
        "id": "Kd45Mm9eVHg7"
      },
      "outputs": [],
      "source": [
        "import numpy as np\n",
        "import pandas as pd\n",
        "from matplotlib import pyplot as plt\n",
        "import os\n",
        "import io\n",
        "import regex\n",
        "from sklearn.feature_extraction.text import CountVectorizer\n",
        "from matplotlib import pyplot as plt\n",
        "from scipy import sparse"
      ]
    },
    {
      "cell_type": "markdown",
      "source": [
        "# Upload Data"
      ],
      "metadata": {
        "id": "D5wUa5aNyXkK"
      }
    },
    {
      "cell_type": "code",
      "source": [
        "df = pd.read_csv('https://raw.githubusercontent.com/CayJoBla/EmotionRecognition/master/data/original_data.csv', index_col=0)"
      ],
      "metadata": {
        "id": "Zt9iI6wXzhHQ"
      },
      "execution_count": 2,
      "outputs": []
    },
    {
      "cell_type": "code",
      "source": [
        "tweet_data = df.copy()\n",
        "tweet_data.info()"
      ],
      "metadata": {
        "colab": {
          "base_uri": "https://localhost:8080/"
        },
        "id": "RUhrZD2Wmsic",
        "outputId": "8ade19b1-97bf-4f08-cbf2-400ac5a98450"
      },
      "execution_count": 3,
      "outputs": [
        {
          "output_type": "stream",
          "name": "stdout",
          "text": [
            "<class 'pandas.core.frame.DataFrame'>\n",
            "Int64Index: 40000 entries, 1956967341 to 1753919049\n",
            "Data columns (total 2 columns):\n",
            " #   Column     Non-Null Count  Dtype \n",
            "---  ------     --------------  ----- \n",
            " 0   sentiment  40000 non-null  object\n",
            " 1   content    40000 non-null  object\n",
            "dtypes: object(2)\n",
            "memory usage: 937.5+ KB\n"
          ]
        }
      ]
    },
    {
      "cell_type": "markdown",
      "source": [
        "## Consolidate and encode classes"
      ],
      "metadata": {
        "id": "YdH9MloFtYWx"
      }
    },
    {
      "cell_type": "code",
      "source": [
        "# Original classes\n",
        "np.sort(pd.unique(tweet_data['sentiment']))"
      ],
      "metadata": {
        "colab": {
          "base_uri": "https://localhost:8080/"
        },
        "id": "umwpjYyDoMzE",
        "outputId": "058e6306-62e5-45e2-bf4a-918eb12ef591"
      },
      "execution_count": 4,
      "outputs": [
        {
          "output_type": "execute_result",
          "data": {
            "text/plain": [
              "array(['anger', 'boredom', 'empty', 'enthusiasm', 'fun', 'happiness',\n",
              "       'hate', 'love', 'neutral', 'relief', 'sadness', 'surprise',\n",
              "       'worry'], dtype=object)"
            ]
          },
          "metadata": {},
          "execution_count": 4
        }
      ]
    },
    {
      "cell_type": "code",
      "source": [
        "# New classes\n",
        "tweet_data.loc[tweet_data[\"sentiment\"]==\"empty\", \"sentiment\"] = \"sadness\"\n",
        "tweet_data.loc[tweet_data[\"sentiment\"]==\"boredom\", \"sentiment\"] = \"neutral\"\n",
        "tweet_data.loc[tweet_data[\"sentiment\"]==\"hate\", \"sentiment\"] = \"anger\"\n",
        "tweet_data.loc[tweet_data[\"sentiment\"]==\"fun\", \"sentiment\"] = \"enthusiasm\"\n",
        "np.sort(pd.unique(tweet_data['sentiment']))"
      ],
      "metadata": {
        "colab": {
          "base_uri": "https://localhost:8080/"
        },
        "id": "lFRL_CcWY9jb",
        "outputId": "5f65f46e-ffbe-428e-f8ae-3b9e568088ac"
      },
      "execution_count": 5,
      "outputs": [
        {
          "output_type": "execute_result",
          "data": {
            "text/plain": [
              "array(['anger', 'enthusiasm', 'happiness', 'love', 'neutral', 'relief',\n",
              "       'sadness', 'surprise', 'worry'], dtype=object)"
            ]
          },
          "metadata": {},
          "execution_count": 5
        }
      ]
    },
    {
      "cell_type": "code",
      "source": [
        "# Encode\n",
        "tweet_data[\"sentiment\"] = tweet_data[\"sentiment\"].astype('category').cat.codes"
      ],
      "metadata": {
        "id": "NZY36QHUtjBy"
      },
      "execution_count": 6,
      "outputs": []
    },
    {
      "cell_type": "markdown",
      "source": [
        "## Clean and organize tweet text"
      ],
      "metadata": {
        "id": "fYZt0M8Rtid0"
      }
    },
    {
      "cell_type": "code",
      "source": [
        "# Define identifiers\n",
        "urls = r\"http:[^\\s]+|w{3}\\.[^\\s]+|[\\w]+\\.[\\w]{3}[/\\w]*\"\n",
        "users = r\"@(\\w){1,}\"\n",
        "tags = r\"#(\\w){1,}\"\n",
        "errors = r\"&[\\w]+;\"\n",
        "symbols = r\"[_~$/%/^/&/*-/+/=/\\/|///?/!:;\\\"<>,]|[.]+\"\n",
        "words = r\"[\\w]+\"\n",
        "\n",
        "# Parse unique identifiers\n",
        "tweet_data['num_urls'] = tweet_data['content'].apply(lambda text: len(regex.findall(urls, text.lower()))).values\n",
        "tweet_data['content_parsed'] = tweet_data['content'].apply(lambda text: regex.sub(urls, \"\", text)).values\n",
        "tweet_data['num_pings'] = tweet_data['content_parsed'].apply(lambda text: len(regex.findall(users, text.lower()))).values\n",
        "tweet_data['content_parsed'] = tweet_data['content_parsed'].apply(lambda text: regex.sub(users, \"\", text)).values\n",
        "tweet_data['num_tags'] = tweet_data['content_parsed'].apply(lambda text: len(regex.findall(tags, text.lower()))).values\n",
        "tweet_data['content_parsed'] = tweet_data['content_parsed'].apply(lambda text: regex.sub(tags, \"\", text)).values\n",
        "tweet_data['#!'] = tweet_data['content_parsed'].str.count('!')\n",
        "tweet_data['#?'] = tweet_data['content_parsed'].str.count('\\\\?')\n",
        "tweet_data['#...'] = tweet_data['content_parsed'].str.count('\\\\.{2,}')\n",
        "tweet_data['content_parsed'] = tweet_data['content_parsed'].apply(lambda text: text.replace('ï', ''))\n",
        "tweet_data['content_parsed'] = tweet_data['content_parsed'].apply(lambda text: text.replace('½', ''))\n",
        "tweet_data['content_parsed'] = tweet_data['content_parsed'].apply(lambda text: regex.sub(errors, \" \", text)).values\n",
        "tweet_data['content_parsed'] = tweet_data['content_parsed'].apply(lambda text: regex.sub(symbols, \" \", text)).values\n",
        "tweet_data['content_parsed'] = tweet_data['content_parsed'].apply(lambda text: regex.sub(r\"'\", \"\", text)).values\n",
        "tweet_data['Upper/Lower ratio'] = (tweet_data['content_parsed'].str.findall(r'[A-Z]').str.len()+1) / (tweet_data['content_parsed'].str.findall(r'[a-z]').str.len()+1)\n",
        "tweet_data['words'] = tweet_data['content_parsed'].apply(lambda text: regex.findall(words, text.lower())).values\n",
        "tweet_data['num_words'] = tweet_data['words'].apply(lambda n: len(n))\n",
        "tweet_data[\"avg_word_len\"] = tweet_data['words'].apply(lambda word_array: np.mean([len(word) for word in word_array]))"
      ],
      "metadata": {
        "id": "Q_R9JQjrvsDQ",
        "colab": {
          "base_uri": "https://localhost:8080/"
        },
        "outputId": "bc8fb6a1-088f-4469-c932-5547b6b2d02b"
      },
      "execution_count": 7,
      "outputs": [
        {
          "output_type": "stream",
          "name": "stderr",
          "text": [
            "/usr/local/lib/python3.7/dist-packages/numpy/core/fromnumeric.py:3441: RuntimeWarning: Mean of empty slice.\n",
            "  out=out, **kwargs)\n"
          ]
        }
      ]
    },
    {
      "cell_type": "code",
      "source": [
        "tweet_data.isna().sum()"
      ],
      "metadata": {
        "colab": {
          "base_uri": "https://localhost:8080/"
        },
        "id": "tPo-xfjwHzgS",
        "outputId": "d9357bfc-b27e-45e0-e904-7601e205d9da"
      },
      "execution_count": 8,
      "outputs": [
        {
          "output_type": "execute_result",
          "data": {
            "text/plain": [
              "sentiment              0\n",
              "content                0\n",
              "num_urls               0\n",
              "content_parsed         0\n",
              "num_pings              0\n",
              "num_tags               0\n",
              "#!                     0\n",
              "#?                     0\n",
              "#...                   0\n",
              "Upper/Lower ratio      0\n",
              "words                  0\n",
              "num_words              0\n",
              "avg_word_len         100\n",
              "dtype: int64"
            ]
          },
          "metadata": {},
          "execution_count": 8
        }
      ]
    },
    {
      "cell_type": "code",
      "source": [
        "# Avg word len is NaN when there are no words in the tweet, set to 0\n",
        "tweet_data = tweet_data.fillna(0)\n",
        "tweet_data.isna().sum()"
      ],
      "metadata": {
        "colab": {
          "base_uri": "https://localhost:8080/"
        },
        "id": "6wxVZbusSaUU",
        "outputId": "ff3b1387-1a1e-4831-e191-882b2268e0a9"
      },
      "execution_count": 9,
      "outputs": [
        {
          "output_type": "execute_result",
          "data": {
            "text/plain": [
              "sentiment            0\n",
              "content              0\n",
              "num_urls             0\n",
              "content_parsed       0\n",
              "num_pings            0\n",
              "num_tags             0\n",
              "#!                   0\n",
              "#?                   0\n",
              "#...                 0\n",
              "Upper/Lower ratio    0\n",
              "words                0\n",
              "num_words            0\n",
              "avg_word_len         0\n",
              "dtype: int64"
            ]
          },
          "metadata": {},
          "execution_count": 9
        }
      ]
    },
    {
      "cell_type": "markdown",
      "source": [
        "### Data Analysis"
      ],
      "metadata": {
        "id": "yTD7xjAlvAR_"
      }
    },
    {
      "cell_type": "code",
      "source": [
        "vectorizer = CountVectorizer()\n",
        "X = vectorizer.fit_transform(tweet_data[\"content_parsed\"].values)\n",
        "total_counts = np.array(np.sum(X, axis=0))[0]\n",
        "\n",
        "print(\"Minimum word count:\", np.min(total_counts))\n",
        "print(\"Maximum word count:\", np.max(total_counts))\n",
        "print(\"Mean word count:\", np.mean(total_counts))"
      ],
      "metadata": {
        "colab": {
          "base_uri": "https://localhost:8080/"
        },
        "id": "vxZSl8DPGybN",
        "outputId": "ed0834c5-8cae-4fcb-d87a-93ad355f3ce2"
      },
      "execution_count": 10,
      "outputs": [
        {
          "output_type": "stream",
          "name": "stdout",
          "text": [
            "Minimum word count: 1\n",
            "Maximum word count: 14377\n",
            "Mean word count: 15.65839630843309\n"
          ]
        }
      ]
    },
    {
      "cell_type": "code",
      "source": [
        "fig, ax = plt.subplots(1, 1, dpi=200, figsize=(8,5))\n",
        "ax.hist(total_counts, bins=np.arange(0,15000,500))\n",
        "ax.set_title(\"Word Counts\", size=16)\n",
        "ax.set_xlabel(\"Count\")\n",
        "ax.set_ylabel(\"Number of words\")\n",
        "ax.set_yscale('log')\n",
        "plt.savefig(\"original_counts.png\")\n",
        "plt.show()"
      ],
      "metadata": {
        "id": "HComd5H1iEY6",
        "colab": {
          "base_uri": "https://localhost:8080/",
          "height": 949
        },
        "outputId": "33bd9c43-9d3d-4545-f40b-9ac8fdf7effd"
      },
      "execution_count": 11,
      "outputs": [
        {
          "output_type": "display_data",
          "data": {
            "text/plain": [
              "<Figure size 1600x1000 with 1 Axes>"
            ],
            "image/png": "[encoded data removed]"
          },
          "metadata": {
            "needs_background": "light"
          }
        }
      ]
    },
    {
      "cell_type": "code",
      "source": [
        "# Save full dataset as a sparse matrix\n",
        "X = sparse.csc_matrix(X)\n",
        "print(\"Full bag of words dimensions:\", X.shape)\n",
        "\n",
        "# Convert to sparse matrix\n",
        "full_data = sparse.hstack((tweet_data.drop(columns=[\"words\",\"content\",\"content_parsed\"]).values, X), format='csr')\n",
        "\n",
        "# Move labels to the opposite side\n",
        "full_data = sparse.hstack((full_data[:, 1:], full_data[:, :1]), format='csr')\n",
        "\n",
        "print(\"Full dataset dimensions:\", full_data.shape)\n",
        "sparse.save_npz(\"cleaned_data_full.npz\", full_data)"
      ],
      "metadata": {
        "colab": {
          "base_uri": "https://localhost:8080/"
        },
        "id": "kz6nx9CFarfQ",
        "outputId": "b21d3b61-7dc8-496c-aedb-15696a3322ba"
      },
      "execution_count": 12,
      "outputs": [
        {
          "output_type": "stream",
          "name": "stdout",
          "text": [
            "Full bag of words dimensions: (40000, 29906)\n",
            "Full dataset dimensions: (40000, 29916)\n"
          ]
        }
      ]
    },
    {
      "cell_type": "markdown",
      "source": [
        "### Remove columns with too many or too few counts"
      ],
      "metadata": {
        "id": "xYjAwMwXvfUw"
      }
    },
    {
      "cell_type": "code",
      "source": [
        "names = vectorizer.get_feature_names_out()\n",
        "print(\"Commonly used words to drop:\", end=\" \")\n",
        "print(*names[total_counts > 7000], sep=', ')\n",
        "# X = X[:,total_counts <= 7000]         # Drop too many\n",
        "# X = X[:,total_counts >= 5]            # Drop too few\n",
        "# names = names[counts >= 5]\n"
      ],
      "metadata": {
        "colab": {
          "base_uri": "https://localhost:8080/"
        },
        "id": "SZHywDhpq7d9",
        "outputId": "23a17d14-a78e-479c-a454-51167e3b0dcd"
      },
      "execution_count": 13,
      "outputs": [
        {
          "output_type": "stream",
          "name": "stdout",
          "text": [
            "Commonly used words to drop: and, my, the, to, you\n"
          ]
        }
      ]
    },
    {
      "cell_type": "markdown",
      "source": [
        "### Save dataframe for later computation"
      ],
      "metadata": {
        "id": "KS6R7kRDszNX"
      }
    },
    {
      "cell_type": "code",
      "source": [
        "tweet_data.drop(columns=[\"words\",\"content\",\"content_parsed\"]).to_csv(\"cleaned_data.csv\")"
      ],
      "metadata": {
        "id": "RG6gN_MW0nTI"
      },
      "execution_count": 14,
      "outputs": []
    },
    {
      "cell_type": "code",
      "source": [],
      "metadata": {
        "id": "OM09q_wPFkc2"
      },
      "execution_count": 14,
      "outputs": []
    }
  ]
}