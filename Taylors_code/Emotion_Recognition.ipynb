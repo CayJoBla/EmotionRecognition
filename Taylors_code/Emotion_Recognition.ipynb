{
  "nbformat": 4,
  "nbformat_minor": 0,
  "metadata": {
    "colab": {
      "provenance": [],
      "collapsed_sections": []
    },
    "kernelspec": {
      "name": "python3",
      "display_name": "Python 3"
    },
    "language_info": {
      "name": "python"
    }
  },
  "cells": [
    {
      "cell_type": "code",
      "execution_count": null,
      "metadata": {
        "id": "zbcrA3AeUWO9"
      },
      "outputs": [],
      "source": [
        "import pandas as pd\n",
        "import numpy as np\n",
        "from collections import Counter"
      ]
    },
    {
      "cell_type": "code",
      "source": [
        "#import first CSV\n",
        "url = 'https://raw.githubusercontent.com/CayJoBla/EmotionRecognition/master/Taylors_code/tweet_emotions.csv'\n",
        "df = pd.read_csv(url, usecols = ['sentiment','content'])\n",
        "df.rename(columns = {'sentiment':'Emotion', 'content':'Text'}, inplace = True)\n",
        "\n",
        "# print(df)\n",
        "\n",
        "df['#!'] = df.Text.str.count('!')\n",
        "df['#?'] = df.Text.str.count('\\\\?')\n",
        "df['#...'] = df.Text.str.count('...')\n",
        "\n",
        "df['Upper/Lower ratio'] = df['Text'].str.findall(r'[A-Z]').str.len() / df['Text'].str.findall(r'[a-z]').str.len()\n",
        "df['string size']\n",
        "\n",
        "print(df)\n",
        "\n",
        "data_np = np.array(df)\n",
        "\n",
        "data_np[data_np[:, 0] == \"empty\"] = \"sadness\"\n",
        "data_np[data_np[:, 0] == \"boredom\"] = \"neutral\"\n",
        "data_np[data_np[:, 0] == \"hate\"] = \"anger\"\n",
        "data_np[data_np[:, 0] == \"enthusiasm\"] = \"fun\"\n",
        "\n",
        "emotions1 = Counter(data_np[:, 0])\n",
        "\n",
        "for i in emotions1:\n",
        "  print(\"{}, {}\".format(i, emotions1[i]))\n",
        "\n",
        "# print(np.char.count(data_np[2], '!'))\n",
        "\n",
        "# data_np.append(np.char.count(data_np[:, 1], '!'))\n"
      ],
      "metadata": {
        "id": "rieXNLGTVXh6",
        "colab": {
          "base_uri": "https://localhost:8080/"
        },
        "outputId": "17c97c6c-129c-4a39-d1d5-3852d12bf908"
      },
      "execution_count": null,
      "outputs": [
        {
          "output_type": "stream",
          "name": "stdout",
          "text": [
            "          Emotion                                               Text  #!  #?  \\\n",
            "0           empty  @tiffanylue i know  i was listenin to bad habi...   0   0   \n",
            "1         sadness  Layin n bed with a headache  ughhhh...waitin o...   0   0   \n",
            "2         sadness                Funeral ceremony...gloomy friday...   0   0   \n",
            "3      enthusiasm               wants to hang out with friends SOON!   1   0   \n",
            "4         neutral  @dannycastillo We want to trade with someone w...   0   0   \n",
            "...           ...                                                ...  ..  ..   \n",
            "39995     neutral                                   @JohnLloydTaylor   0   0   \n",
            "39996        love                     Happy Mothers Day  All my love   0   0   \n",
            "39997        love  Happy Mother's Day to all the mommies out ther...   1   0   \n",
            "39998   happiness  @niariley WASSUP BEAUTIFUL!!! FOLLOW ME!!  PEE...   7   0   \n",
            "39999        love  @mopedronin bullet train from tokyo    the gf ...   0   0   \n",
            "\n",
            "       #...  Upper/Lower ratio  \n",
            "0        30           0.000000  \n",
            "1        20           0.023256  \n",
            "2        11           0.038462  \n",
            "3        12           0.160000  \n",
            "4        28           0.029851  \n",
            "...     ...                ...  \n",
            "39995     5           0.250000  \n",
            "39996    10           0.200000  \n",
            "39997    41           0.033333  \n",
            "39998    40          10.375000  \n",
            "39999    44           0.000000  \n",
            "\n",
            "[40000 rows x 6 columns]\n",
            "sadness, 5992\n",
            "fun, 2535\n",
            "neutral, 8817\n",
            "worry, 8459\n",
            "surprise, 2187\n",
            "love, 3842\n",
            "anger, 1433\n",
            "happiness, 5209\n",
            "relief, 1526\n"
          ]
        }
      ]
    },
    {
      "cell_type": "code",
      "source": [
        "#import txt file\n",
        "url = 'https://raw.githubusercontent.com/CayJoBla/EmotionRecognition/master/Taylors_code/text.txt'\n",
        "data = pd.read_csv(url, sep=\"] \", header=None)\n",
        "data.columns = [\"a\", \"Text\"]\n",
        "data[['e1', 'e2', 'e3', 'e4', 'e5', 'e6', 'e7']] = data['a'].str.split('  ', 6, expand=True)\n",
        "data['e1'] = data.e1.str.extract('(\\d+)')\n",
        "data.drop('a', inplace=True, axis=1)\n",
        "data = data.loc[:,['e1', 'e2', 'e3', 'e4', 'e5', 'e6', 'e7', 'Text']]\n",
        "\n",
        "#if we want to change the emotions later\n",
        "data.columns = ['e1', 'e2', 'e3', 'e4', 'e5', 'e6', 'e7', 'Text']\n",
        "\n",
        "print(data)"
      ],
      "metadata": {
        "colab": {
          "base_uri": "https://localhost:8080/"
        },
        "id": "S6_gMbs7YKvS",
        "outputId": "2442d476-4398-4f19-8b29-7cf1e37346a3"
      },
      "execution_count": null,
      "outputs": [
        {
          "output_type": "stream",
          "name": "stdout",
          "text": [
            "     e1  e2  e3  e4  e5  e6  e7  \\\n",
            "0     1  0.  0.  0.  0.  0.  0.   \n",
            "1     0  1.  0.  0.  0.  0.  0.   \n",
            "2     0  0.  1.  0.  0.  0.  0.   \n",
            "3     0  0.  0.  1.  0.  0.  0.   \n",
            "4     0  0.  0.  0.  1.  0.  0.   \n",
            "...  ..  ..  ..  ..  ..  ..  ..   \n",
            "7475  0  0.  1.  0.  0.  0.  0.   \n",
            "7476  0  0.  0.  1.  0.  0.  0.   \n",
            "7477  0  0.  0.  0.  1.  0.  0.   \n",
            "7478  0  0.  0.  0.  0.  1.  0.   \n",
            "7479  0  0.  0.  0.  0.  0.  1.   \n",
            "\n",
            "                                                   Text  \n",
            "0     During the period of falling in love, each tim...  \n",
            "1            When I was involved in a traffic accident.  \n",
            "2     When I was driving home after  several days of...  \n",
            "3      When I lost the person who meant the most to me.  \n",
            "4     The time I knocked a deer down - the sight of ...  \n",
            "...                                                 ...  \n",
            "7475  Two years back someone invited me to be the tu...  \n",
            "7476  I had taken the responsibility to do something...  \n",
            "7477  I was at home and I heard a loud sound of spit...  \n",
            "7478  I did not do the homework that the teacher had...  \n",
            "7479  I had shouted at my younger brother and he was...  \n",
            "\n",
            "[7480 rows x 8 columns]\n"
          ]
        },
        {
          "output_type": "stream",
          "name": "stderr",
          "text": [
            "/usr/local/lib/python3.7/dist-packages/pandas/util/_decorators.py:311: ParserWarning: Falling back to the 'python' engine because the 'c' engine does not support regex separators (separators > 1 char and different from '\\s+' are interpreted as regex); you can avoid this warning by specifying engine='python'.\n",
            "  return func(*args, **kwargs)\n"
          ]
        }
      ]
    },
    {
      "cell_type": "code",
      "source": [],
      "metadata": {
        "id": "AVfTcKwdbddi"
      },
      "execution_count": null,
      "outputs": []
    }
  ]
}
