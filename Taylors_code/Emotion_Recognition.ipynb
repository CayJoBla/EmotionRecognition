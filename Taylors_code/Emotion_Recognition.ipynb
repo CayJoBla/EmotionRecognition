{
  "nbformat": 4,
  "nbformat_minor": 0,
  "metadata": {
    "colab": {
      "provenance": [],
      "collapsed_sections": []
    },
    "kernelspec": {
      "name": "python3",
      "display_name": "Python 3"
    },
    "language_info": {
      "name": "python"
    }
  },
  "cells": [
    {
      "cell_type": "code",
      "execution_count": null,
      "metadata": {
        "id": "zbcrA3AeUWO9"
      },
      "outputs": [],
      "source": [
        "import pandas as pd\n",
        "import numpy as np"
      ]
    },
    {
      "cell_type": "code",
      "source": [
        "#import first CSV\n",
        "url = 'https://raw.githubusercontent.com/CayJoBla/EmotionRecognition/master/Taylors_code/tweet_emotions.csv'\n",
        "df = pd.read_csv(url, usecols = ['sentiment','content'])\n",
        "df.rename(columns = {'sentiment':'Emotion', 'content':'Text'}, inplace = True)\n",
        "\n",
        "print(df)"
      ],
      "metadata": {
        "id": "rieXNLGTVXh6",
        "colab": {
          "base_uri": "https://localhost:8080/"
        },
        "outputId": "7d3dba94-4bc1-4553-cd04-9bf46bbe1b2b"
      },
      "execution_count": 15,
      "outputs": [
        {
          "output_type": "stream",
          "name": "stdout",
          "text": [
            "          Emotion                                               Text\n",
            "0           empty  @tiffanylue i know  i was listenin to bad habi...\n",
            "1         sadness  Layin n bed with a headache  ughhhh...waitin o...\n",
            "2         sadness                Funeral ceremony...gloomy friday...\n",
            "3      enthusiasm               wants to hang out with friends SOON!\n",
            "4         neutral  @dannycastillo We want to trade with someone w...\n",
            "...           ...                                                ...\n",
            "39995     neutral                                   @JohnLloydTaylor\n",
            "39996        love                     Happy Mothers Day  All my love\n",
            "39997        love  Happy Mother's Day to all the mommies out ther...\n",
            "39998   happiness  @niariley WASSUP BEAUTIFUL!!! FOLLOW ME!!  PEE...\n",
            "39999        love  @mopedronin bullet train from tokyo    the gf ...\n",
            "\n",
            "[40000 rows x 2 columns]\n"
          ]
        }
      ]
    },
    {
      "cell_type": "code",
      "source": [
        "#import txt file\n",
        "url = 'https://raw.githubusercontent.com/CayJoBla/EmotionRecognition/master/Taylors_code/text.txt'\n",
        "data = pd.read_csv(url, sep=\"] \", header=None)\n",
        "data.columns = [\"a\", \"Text\"]\n",
        "data[['e1', 'e2', 'e3', 'e4', 'e5', 'e6', 'e7']] = data['a'].str.split('  ', 6, expand=True)\n",
        "data['e1'] = data.e1.str.extract('(\\d+)')\n",
        "data.drop('a', inplace=True, axis=1)\n",
        "data = data.loc[:,['e1', 'e2', 'e3', 'e4', 'e5', 'e6', 'e7', 'Text']]\n",
        "\n",
        "#if we want to change the emotions later\n",
        "data.columns = ['e1', 'e2', 'e3', 'e4', 'e5', 'e6', 'e7', 'Text']\n",
        "\n",
        "print(data)"
      ],
      "metadata": {
        "colab": {
          "base_uri": "https://localhost:8080/"
        },
        "id": "S6_gMbs7YKvS",
        "outputId": "2442d476-4398-4f19-8b29-7cf1e37346a3"
      },
      "execution_count": 59,
      "outputs": [
        {
          "output_type": "stream",
          "name": "stdout",
          "text": [
            "     e1  e2  e3  e4  e5  e6  e7  \\\n",
            "0     1  0.  0.  0.  0.  0.  0.   \n",
            "1     0  1.  0.  0.  0.  0.  0.   \n",
            "2     0  0.  1.  0.  0.  0.  0.   \n",
            "3     0  0.  0.  1.  0.  0.  0.   \n",
            "4     0  0.  0.  0.  1.  0.  0.   \n",
            "...  ..  ..  ..  ..  ..  ..  ..   \n",
            "7475  0  0.  1.  0.  0.  0.  0.   \n",
            "7476  0  0.  0.  1.  0.  0.  0.   \n",
            "7477  0  0.  0.  0.  1.  0.  0.   \n",
            "7478  0  0.  0.  0.  0.  1.  0.   \n",
            "7479  0  0.  0.  0.  0.  0.  1.   \n",
            "\n",
            "                                                   Text  \n",
            "0     During the period of falling in love, each tim...  \n",
            "1            When I was involved in a traffic accident.  \n",
            "2     When I was driving home after  several days of...  \n",
            "3      When I lost the person who meant the most to me.  \n",
            "4     The time I knocked a deer down - the sight of ...  \n",
            "...                                                 ...  \n",
            "7475  Two years back someone invited me to be the tu...  \n",
            "7476  I had taken the responsibility to do something...  \n",
            "7477  I was at home and I heard a loud sound of spit...  \n",
            "7478  I did not do the homework that the teacher had...  \n",
            "7479  I had shouted at my younger brother and he was...  \n",
            "\n",
            "[7480 rows x 8 columns]\n"
          ]
        },
        {
          "output_type": "stream",
          "name": "stderr",
          "text": [
            "/usr/local/lib/python3.7/dist-packages/pandas/util/_decorators.py:311: ParserWarning: Falling back to the 'python' engine because the 'c' engine does not support regex separators (separators > 1 char and different from '\\s+' are interpreted as regex); you can avoid this warning by specifying engine='python'.\n",
            "  return func(*args, **kwargs)\n"
          ]
        }
      ]
    },
    {
      "cell_type": "code",
      "source": [],
      "metadata": {
        "id": "AVfTcKwdbddi"
      },
      "execution_count": null,
      "outputs": []
    }
  ]
}